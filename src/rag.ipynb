{
 "cells": [
  {
   "cell_type": "markdown",
   "metadata": {},
   "source": [
    "# RAG System"
   ]
  },
  {
   "cell_type": "markdown",
   "metadata": {},
   "source": [
    "![rag](../images/rag.png)"
   ]
  },
  {
   "cell_type": "code",
   "execution_count": 1,
   "metadata": {},
   "outputs": [],
   "source": [
    "import tiktoken\n",
    "from langchain_openai import OpenAIEmbeddings\n",
    "import numpy as np\n",
    "import bs4\n",
    "from langchain_community.document_loaders import WebBaseLoader\n",
    "\n",
    "import os\n",
    "from dotenv import load_dotenv\n",
    "\n",
    "load_dotenv()\n",
    "\n",
    "os.environ['LANGCHAIN_TRACING_V2'] = 'true'\n",
    "os.environ['LANGCHAIN_ENDPOINT'] = 'https://api.smith.langchain.com'\n",
    "\n",
    "langchain_api_key = os.getenv(\"LANGCHAIN_API_KEY\")\n",
    "os.environ['LANGCHAIN_API_KEY'] = langchain_api_key\n",
    "\n",
    "open_api_key = os.getenv(\"OPEN_API_KEY\")\n",
    "\n",
    "os.environ['OPENAI_API_KEY'] = open_api_key\n",
    "os.environ['USER_AGENT'] = os.getenv(\"USER_AGENT\")\n",
    "USER_AGENT = os.getenv(\"USER_AGENT\")"
   ]
  },
  {
   "cell_type": "code",
   "execution_count": 2,
   "metadata": {},
   "outputs": [],
   "source": [
    "# Documents\n",
    "question = \"What kinds of pets do I like?\"\n",
    "document = \"My favorite pet is a cat.\""
   ]
  },
  {
   "cell_type": "markdown",
   "metadata": {},
   "source": [
    "Count tokens"
   ]
  },
  {
   "cell_type": "code",
   "execution_count": 3,
   "metadata": {},
   "outputs": [
    {
     "data": {
      "text/plain": [
       "8"
      ]
     },
     "execution_count": 3,
     "metadata": {},
     "output_type": "execute_result"
    }
   ],
   "source": [
    "import tiktoken\n",
    "\n",
    "def num_tokens_from_string(string: str, encoding_name: str) -> int:\n",
    "    \"\"\"Returns the number of tokens in a text string.\"\"\"\n",
    "    encoding = tiktoken.get_encoding(encoding_name)\n",
    "    num_tokens = len(encoding.encode(string))\n",
    "    return num_tokens\n",
    "\n",
    "num_tokens_from_string(question, \"cl100k_base\")"
   ]
  },
  {
   "cell_type": "code",
   "execution_count": 4,
   "metadata": {},
   "outputs": [
    {
     "data": {
      "text/plain": [
       "1536"
      ]
     },
     "execution_count": 4,
     "metadata": {},
     "output_type": "execute_result"
    }
   ],
   "source": [
    "from langchain_openai import OpenAIEmbeddings\n",
    "embd = OpenAIEmbeddings()\n",
    "query_result = embd.embed_query(question)\n",
    "document_result = embd.embed_query(document)\n",
    "len(query_result)\n"
   ]
  },
  {
   "cell_type": "code",
   "execution_count": 5,
   "metadata": {},
   "outputs": [
    {
     "name": "stdout",
     "output_type": "stream",
     "text": [
      "[-0.0036279945634305477, -0.0031491245608776808, -0.012412562035024166, -0.02501540258526802, -0.02831358090043068, 0.017581820487976074, -0.015539486892521381, -0.008543546311557293, -0.006773947738111019, -0.004887009970843792, -0.003742162138223648, 0.005448334384709597, -0.008372295647859573, -0.001477836980484426, 0.009444202296435833, 0.019548039883375168, 0.03077452816069126, 0.014968648552894592, 0.01575513742864132, -0.015501431189477444]\n"
     ]
    }
   ],
   "source": [
    "print(query_result[:20])"
   ]
  },
  {
   "cell_type": "markdown",
   "metadata": {},
   "source": [
    "Cosine Similarity"
   ]
  },
  {
   "cell_type": "code",
   "execution_count": 6,
   "metadata": {},
   "outputs": [
    {
     "name": "stdout",
     "output_type": "stream",
     "text": [
      "Cosine Similarity: 0.880685727045271\n"
     ]
    }
   ],
   "source": [
    "import numpy as np\n",
    "\n",
    "def cosine_similarity(vec1, vec2):\n",
    "    dot_product = np.dot(vec1, vec2)\n",
    "    norm_vec1 = np.linalg.norm(vec1)\n",
    "    norm_vec2 = np.linalg.norm(vec2)\n",
    "    return dot_product / (norm_vec1 * norm_vec2)\n",
    "\n",
    "similarity = cosine_similarity(query_result, document_result)\n",
    "print(\"Cosine Similarity:\", similarity)"
   ]
  },
  {
   "cell_type": "markdown",
   "metadata": {},
   "source": [
    "Retrieval (documents in vector space) augmented generation (llm)"
   ]
  },
  {
   "cell_type": "code",
   "execution_count": 7,
   "metadata": {},
   "outputs": [],
   "source": [
    "#### INDEXING ####\n",
    "\n",
    "# Load blog\n",
    "import bs4\n",
    "from langchain_community.document_loaders import WebBaseLoader\n",
    "loader = WebBaseLoader(\n",
    "    web_paths=(\"https://mathmod.chnu.edu.ua/\",)\n",
    "    # bs_kwargs=dict(\n",
    "    #     parse_only=bs4.SoupStrainer(\n",
    "    #         class_=(\"post-content\", \"post-title\", \"post-header\")\n",
    "    #     )\n",
    "    # ),\n",
    ")\n",
    "blog_docs = loader.load()"
   ]
  },
  {
   "cell_type": "code",
   "execution_count": 10,
   "metadata": {},
   "outputs": [
    {
     "name": "stdout",
     "output_type": "stream",
     "text": [
      "[Document(metadata={'source': 'https://mathmod.chnu.edu.ua/', 'title': 'Кафедра математичного моделювання - Кафедра математичного моделювання', 'description': 'Офіційна сторінка кафедри математичного моделювання Чернівецького національного університету імені Юрія Федьковича', 'language': 'uk'}, page_content='Кафедра математичного моделювання - Кафедра математичного моделювання\\n\\n\\n\\n\\n\\n\\n\\n\\n\\n\\n\\n\\n\\n\\n\\n\\n\\n\\n\\n\\n\\n\\n\\n\\n\\n\\n\\n\\n\\n\\n\\n\\n\\n\\n\\n\\n\\n\\n\\n\\n\\n\\n\\n\\n\\n\\n\\n\\n\\n\\n\\nПерейти до основного вмісту\\n\\n\\n\\n\\n\\n\\n[email\\xa0protected]\\n\\n\\n\\r\\n                 вул. Університетська 28, каб. 17\\r\\n            \\n\\n\\n\\n\\n\\n\\n\\n\\n\\n\\n\\n\\n\\n\\n\\n\\n\\n\\n\\n\\n\\n\\n\\n\\n\\n\\n\\n\\n\\n\\nНовини\\n\\nПро нас'), Document(metadata={'source': 'https://mathmod.chnu.edu.ua/', 'title': 'Кафедра математичного моделювання - Кафедра математичного моделювання', 'description': 'Офіційна сторінка кафедри математичного моделювання Чернівецького національного університету імені Юрія Федьковича', 'language': 'uk'}, page_content='Новини\\n\\nПро нас\\n\\n\\nІсторія\\nСпівробітники\\nНауково-дослідна робота\\nПублікації\\nКафедральні дисципліни\\nСпівпраця\\nМіжнародна діяльність\\nАспірантура\\n\\n\\n\\n\\nОсвітні програми')]\n"
     ]
    }
   ],
   "source": [
    "# Split\n",
    "from langchain.text_splitter import RecursiveCharacterTextSplitter\n",
    "text_splitter = RecursiveCharacterTextSplitter.from_tiktoken_encoder(\n",
    "    chunk_size=300, \n",
    "    chunk_overlap=50)\n",
    "\n",
    "# Make splits\n",
    "splits = text_splitter.split_documents(blog_docs)\n",
    "print(splits[:2])\n",
    "\n",
    "# splits = blog_docs.split(' ')\n",
    "# print(splits)"
   ]
  },
  {
   "cell_type": "code",
   "execution_count": null,
   "metadata": {},
   "outputs": [],
   "source": [
    "# # Index\n",
    "# from langchain_openai import OpenAIEmbeddings\n",
    "# from langchain_community.vectorstores import Chroma\n",
    "# vectorstore = Chroma.from_documents(documents=splits, \n",
    "#                                     embedding=OpenAIEmbeddings())\n",
    "\n",
    "# retriever = vectorstore.as_retriever()"
   ]
  },
  {
   "cell_type": "code",
   "execution_count": null,
   "metadata": {},
   "outputs": [],
   "source": [
    "# # Index\n",
    "# from langchain_openai import OpenAIEmbeddings\n",
    "# from langchain_community.vectorstores import Chroma\n",
    "# vectorstore = Chroma.from_documents(documents=splits, \n",
    "#                                     embedding=OpenAIEmbeddings())\n",
    "\n",
    "\n",
    "# retriever = vectorstore.as_retriever(search_kwargs={\"k\": 1})"
   ]
  },
  {
   "cell_type": "code",
   "execution_count": 11,
   "metadata": {},
   "outputs": [],
   "source": [
    "from langchain.vectorstores import FAISS\n",
    "\n",
    "vectorstore = FAISS.from_documents(splits, OpenAIEmbeddings())\n",
    "\n",
    "retriever = vectorstore.as_retriever(search_kwargs={\"k\": 1})"
   ]
  },
  {
   "cell_type": "code",
   "execution_count": 12,
   "metadata": {},
   "outputs": [
    {
     "name": "stderr",
     "output_type": "stream",
     "text": [
      "C:\\Users\\vmelnyk2\\AppData\\Local\\Temp\\ipykernel_28676\\3043429598.py:1: LangChainDeprecationWarning: The method `BaseRetriever.get_relevant_documents` was deprecated in langchain-core 0.1.46 and will be removed in 1.0. Use :meth:`~invoke` instead.\n",
      "  docs = retriever.get_relevant_documents(\"Хто такий Ігор Михайлович Черевко?\")\n"
     ]
    },
    {
     "name": "stdout",
     "output_type": "stream",
     "text": [
      "[Document(id='1789da48-20bd-4531-82ac-36a6db3f4de2', metadata={'source': 'https://mathmod.chnu.edu.ua/', 'title': 'Кафедра математичного моделювання - Кафедра математичного моделювання', 'description': 'Офіційна сторінка кафедри математичного моделювання Чернівецького національного університету імені Юрія Федьковича', 'language': 'uk'}, page_content=\"Черевко Ігор Михайлович\\nЗавідувач кафедри\\n\\n\\n\\n\\nОстанні новини\\n\\n\\n\\n20лют\\nВшанування пам'яті Героїв Небесної Сотні\\n\\n\\n\\n\\n20лют\\nУспішне міжнародне стажування викладачок кафедри математичного моделювання\\n\\n\\n\\n\\n15лют\\nПідвищення кваліфікації викладачів кафедри\")]\n"
     ]
    }
   ],
   "source": [
    "docs = retriever.get_relevant_documents(\"Хто такий Ігор Михайлович Черевко?\")\n",
    "print(docs)"
   ]
  },
  {
   "cell_type": "code",
   "execution_count": 13,
   "metadata": {},
   "outputs": [],
   "source": [
    "from langchain_openai import ChatOpenAI\n",
    "from langchain.prompts import ChatPromptTemplate\n",
    "\n",
    "# Prompt\n",
    "template = \"\"\"Answer the question based only on the following context:\n",
    "{context}\n",
    "\n",
    "Question: {question}\n",
    "\"\"\"\n",
    "\n",
    "prompt = ChatPromptTemplate.from_template(template)"
   ]
  },
  {
   "cell_type": "code",
   "execution_count": 14,
   "metadata": {},
   "outputs": [],
   "source": [
    "# LLM\n",
    "llm = ChatOpenAI(model_name=\"gpt-3.5-turbo\", temperature=0)"
   ]
  },
  {
   "cell_type": "code",
   "execution_count": 15,
   "metadata": {},
   "outputs": [
    {
     "data": {
      "text/plain": [
       "'Ігор Михайлович Черевко - завідувач кафедри математичного моделювання.'"
      ]
     },
     "execution_count": 15,
     "metadata": {},
     "output_type": "execute_result"
    }
   ],
   "source": [
    "from langchain_core.output_parsers import StrOutputParser\n",
    "from langchain_core.runnables import RunnablePassthrough\n",
    "\n",
    "rag_chain = (\n",
    "    {\"context\": retriever, \"question\": RunnablePassthrough()}\n",
    "    | prompt\n",
    "    | llm\n",
    "    | StrOutputParser()\n",
    ")\n",
    "\n",
    "rag_chain.invoke(\"Хто такий Ігор Михайлович Черевко?\")"
   ]
  },
  {
   "cell_type": "markdown",
   "metadata": {},
   "source": [
    "## RAG system all together"
   ]
  },
  {
   "cell_type": "markdown",
   "metadata": {},
   "source": [
    "parse all links"
   ]
  },
  {
   "cell_type": "code",
   "execution_count": 3,
   "metadata": {},
   "outputs": [
    {
     "name": "stdout",
     "output_type": "stream",
     "text": [
      "[Document(metadata={'source': 'https://mathmod.chnu.edu.ua/', 'title': 'Кафедра математичного моделювання - Кафедра математичного моделювання', 'description': 'Офіційна сторінка кафедри математичного моделювання Чернівецького національного університету імені Юрія Федьковича', 'language': 'uk'}, page_content='Кафедра математичного моделювання - Кафедра математичного моделювання\\n\\n\\n\\n\\n\\n\\n\\n\\n\\n\\n\\n\\n\\n\\n\\n\\n\\n\\n\\n\\n\\n\\n\\n\\n\\n\\n\\n\\n\\n\\n\\n\\n\\n\\n\\n\\n\\n\\n\\n\\n\\n\\n\\n\\n\\n\\n\\n\\n\\n\\n\\nПерейти до основного вмісту\\n\\n\\n\\n\\n\\n\\n[email\\xa0protected]\\n\\n\\n\\r\\n                 вул. Університетська 28, каб. 17\\r\\n            \\n\\n\\n\\n\\n\\n\\n\\n\\n\\n\\n\\n\\n\\n\\n\\n\\n\\n\\n\\n\\n\\n\\n\\n\\n\\n\\n\\n\\n\\n\\nНовини\\n\\nПро нас'), Document(metadata={'source': 'https://mathmod.chnu.edu.ua/', 'title': 'Кафедра математичного моделювання - Кафедра математичного моделювання', 'description': 'Офіційна сторінка кафедри математичного моделювання Чернівецького національного університету імені Юрія Федьковича', 'language': 'uk'}, page_content='Новини\\n\\nПро нас\\n\\n\\nІсторія\\nСпівробітники\\nНауково-дослідна робота\\nПублікації\\nКафедральні дисципліни\\nСпівпраця\\nМіжнародна діяльність\\nАспірантура\\n\\n\\n\\n\\nОсвітні програми')]\n"
     ]
    }
   ],
   "source": [
    "#### INDEXING ####\n",
    "\n",
    "# Load blog\n",
    "import bs4\n",
    "from langchain_community.document_loaders import WebBaseLoader\n",
    "from langchain.text_splitter import RecursiveCharacterTextSplitter\n",
    "from langchain.vectorstores import FAISS\n",
    "\n",
    "with open('../resources/sets/rag-links.txt', 'r') as file:\n",
    "    data = file.read().replace('\\n', ',')\n",
    "\n",
    "links = data.split(',')\n",
    "\n",
    "links_no_pdf = [x for x in links if \".pdf\" not in x]\n",
    "\n",
    "loader = WebBaseLoader(\n",
    "    web_paths=links_no_pdf\n",
    ")\n",
    "blog_docs = loader.load()\n",
    "\n",
    "text_splitter = RecursiveCharacterTextSplitter.from_tiktoken_encoder(\n",
    "    chunk_size=300, \n",
    "    chunk_overlap=50)\n",
    "\n",
    "# Make splits\n",
    "splits = text_splitter.split_documents(blog_docs)\n",
    "print(splits[:2])\n",
    "\n",
    "vectorstore = FAISS.from_documents(splits, OpenAIEmbeddings())\n",
    "\n",
    "vectorstore.save_local(\"../models/\")\n",
    "\n",
    "# retriever = vectorstore.as_retriever(search_kwargs={\"k\": 1})"
   ]
  },
  {
   "cell_type": "code",
   "execution_count": null,
   "metadata": {},
   "outputs": [
    {
     "name": "stdout",
     "output_type": "stream",
     "text": [
      "106337\n",
      "Saved FAISS shard 0 with 500 documents\n",
      "Saved FAISS shard 1 with 500 documents\n",
      "Saved FAISS shard 2 with 500 documents\n",
      "Saved FAISS shard 3 with 500 documents\n",
      "Saved FAISS shard 4 with 500 documents\n",
      "Saved FAISS shard 5 with 500 documents\n",
      "Saved FAISS shard 6 with 500 documents\n",
      "Saved FAISS shard 7 with 500 documents\n",
      "Saved FAISS shard 8 with 500 documents\n",
      "Saved FAISS shard 9 with 500 documents\n",
      "Saved FAISS shard 10 with 500 documents\n",
      "Saved FAISS shard 11 with 500 documents\n",
      "Saved FAISS shard 12 with 500 documents\n",
      "Saved FAISS shard 13 with 500 documents\n",
      "Saved FAISS shard 14 with 500 documents\n",
      "Saved FAISS shard 15 with 500 documents\n",
      "Saved FAISS shard 16 with 500 documents\n",
      "Saved FAISS shard 17 with 500 documents\n",
      "Saved FAISS shard 18 with 500 documents\n",
      "Saved FAISS shard 19 with 500 documents\n",
      "Saved FAISS shard 20 with 500 documents\n",
      "Saved FAISS shard 21 with 500 documents\n",
      "Saved FAISS shard 22 with 500 documents\n",
      "Saved FAISS shard 23 with 500 documents\n",
      "Saved FAISS shard 24 with 500 documents\n",
      "Saved FAISS shard 25 with 500 documents\n",
      "Saved FAISS shard 26 with 500 documents\n",
      "Saved FAISS shard 27 with 500 documents\n",
      "Saved FAISS shard 28 with 500 documents\n",
      "Saved FAISS shard 29 with 500 documents\n",
      "Saved FAISS shard 30 with 500 documents\n",
      "Saved FAISS shard 31 with 500 documents\n",
      "Saved FAISS shard 32 with 500 documents\n",
      "Saved FAISS shard 33 with 500 documents\n",
      "Saved FAISS shard 34 with 500 documents\n",
      "Saved FAISS shard 35 with 500 documents\n",
      "Saved FAISS shard 36 with 500 documents\n",
      "Saved FAISS shard 37 with 500 documents\n",
      "Saved FAISS shard 38 with 500 documents\n",
      "Saved FAISS shard 39 with 500 documents\n",
      "Saved FAISS shard 40 with 500 documents\n",
      "Saved FAISS shard 41 with 500 documents\n",
      "Saved FAISS shard 42 with 500 documents\n",
      "Saved FAISS shard 43 with 500 documents\n",
      "Saved FAISS shard 44 with 500 documents\n",
      "Saved FAISS shard 45 with 500 documents\n",
      "Saved FAISS shard 46 with 500 documents\n",
      "Saved FAISS shard 47 with 500 documents\n",
      "Saved FAISS shard 48 with 500 documents\n",
      "Saved FAISS shard 49 with 500 documents\n",
      "Saved FAISS shard 50 with 500 documents\n",
      "Saved FAISS shard 51 with 500 documents\n",
      "Saved FAISS shard 52 with 500 documents\n",
      "Saved FAISS shard 53 with 500 documents\n",
      "Saved FAISS shard 54 with 500 documents\n",
      "Saved FAISS shard 55 with 500 documents\n",
      "Saved FAISS shard 56 with 500 documents\n",
      "Saved FAISS shard 57 with 500 documents\n",
      "Saved FAISS shard 58 with 500 documents\n",
      "Saved FAISS shard 59 with 500 documents\n",
      "Saved FAISS shard 60 with 500 documents\n",
      "Saved FAISS shard 61 with 500 documents\n",
      "Saved FAISS shard 62 with 500 documents\n",
      "Saved FAISS shard 63 with 500 documents\n",
      "Saved FAISS shard 64 with 500 documents\n",
      "Saved FAISS shard 65 with 500 documents\n",
      "Saved FAISS shard 66 with 500 documents\n",
      "Saved FAISS shard 67 with 500 documents\n",
      "Saved FAISS shard 68 with 500 documents\n",
      "Saved FAISS shard 69 with 500 documents\n",
      "Saved FAISS shard 70 with 500 documents\n",
      "Saved FAISS shard 71 with 500 documents\n",
      "Saved FAISS shard 72 with 500 documents\n",
      "Saved FAISS shard 73 with 500 documents\n",
      "Saved FAISS shard 74 with 500 documents\n",
      "Saved FAISS shard 75 with 500 documents\n",
      "Saved FAISS shard 76 with 500 documents\n",
      "Saved FAISS shard 77 with 500 documents\n",
      "Saved FAISS shard 78 with 500 documents\n",
      "Saved FAISS shard 79 with 500 documents\n",
      "Saved FAISS shard 80 with 500 documents\n",
      "Saved FAISS shard 81 with 500 documents\n",
      "Saved FAISS shard 82 with 500 documents\n",
      "Saved FAISS shard 83 with 500 documents\n",
      "Saved FAISS shard 84 with 500 documents\n",
      "Saved FAISS shard 85 with 500 documents\n",
      "Saved FAISS shard 86 with 500 documents\n",
      "Saved FAISS shard 87 with 500 documents\n",
      "Saved FAISS shard 88 with 500 documents\n",
      "Saved FAISS shard 89 with 500 documents\n",
      "Saved FAISS shard 90 with 500 documents\n",
      "Saved FAISS shard 91 with 500 documents\n",
      "Saved FAISS shard 92 with 500 documents\n",
      "Saved FAISS shard 93 with 500 documents\n",
      "Saved FAISS shard 94 with 500 documents\n",
      "Saved FAISS shard 95 with 500 documents\n",
      "Saved FAISS shard 96 with 500 documents\n",
      "Saved FAISS shard 97 with 500 documents\n",
      "Saved FAISS shard 98 with 500 documents\n",
      "Saved FAISS shard 99 with 500 documents\n",
      "Saved FAISS shard 100 with 500 documents\n",
      "Saved FAISS shard 101 with 500 documents\n",
      "Saved FAISS shard 102 with 500 documents\n",
      "Saved FAISS shard 103 with 500 documents\n",
      "Saved FAISS shard 104 with 500 documents\n",
      "Saved FAISS shard 105 with 500 documents\n",
      "Saved FAISS shard 106 with 500 documents\n",
      "Saved FAISS shard 107 with 500 documents\n",
      "Saved FAISS shard 108 with 500 documents\n",
      "Saved FAISS shard 109 with 500 documents\n",
      "Saved FAISS shard 110 with 500 documents\n",
      "Saved FAISS shard 111 with 500 documents\n",
      "Saved FAISS shard 112 with 500 documents\n",
      "Saved FAISS shard 113 with 500 documents\n",
      "Saved FAISS shard 114 with 500 documents\n",
      "Saved FAISS shard 115 with 500 documents\n",
      "Saved FAISS shard 116 with 500 documents\n",
      "Saved FAISS shard 117 with 500 documents\n",
      "Saved FAISS shard 118 with 500 documents\n",
      "Saved FAISS shard 119 with 500 documents\n",
      "Saved FAISS shard 120 with 500 documents\n",
      "Saved FAISS shard 121 with 500 documents\n",
      "Saved FAISS shard 122 with 500 documents\n",
      "Saved FAISS shard 123 with 500 documents\n",
      "Saved FAISS shard 124 with 500 documents\n",
      "Saved FAISS shard 125 with 500 documents\n",
      "Saved FAISS shard 126 with 500 documents\n",
      "Saved FAISS shard 127 with 500 documents\n",
      "Saved FAISS shard 128 with 500 documents\n",
      "Saved FAISS shard 129 with 500 documents\n",
      "Saved FAISS shard 130 with 500 documents\n",
      "Saved FAISS shard 131 with 500 documents\n",
      "Saved FAISS shard 132 with 500 documents\n",
      "Saved FAISS shard 133 with 500 documents\n",
      "Saved FAISS shard 134 with 500 documents\n",
      "Saved FAISS shard 135 with 500 documents\n",
      "Saved FAISS shard 136 with 500 documents\n",
      "Saved FAISS shard 137 with 500 documents\n",
      "Saved FAISS shard 138 with 500 documents\n",
      "Saved FAISS shard 139 with 500 documents\n",
      "Saved FAISS shard 140 with 500 documents\n",
      "Saved FAISS shard 141 with 500 documents\n",
      "Saved FAISS shard 142 with 500 documents\n",
      "Saved FAISS shard 143 with 500 documents\n",
      "Saved FAISS shard 144 with 500 documents\n",
      "Saved FAISS shard 145 with 500 documents\n",
      "Saved FAISS shard 146 with 500 documents\n",
      "Saved FAISS shard 147 with 500 documents\n",
      "Saved FAISS shard 148 with 500 documents\n",
      "Saved FAISS shard 149 with 500 documents\n",
      "Saved FAISS shard 150 with 500 documents\n",
      "Saved FAISS shard 151 with 500 documents\n",
      "Saved FAISS shard 152 with 500 documents\n",
      "Saved FAISS shard 153 with 500 documents\n",
      "Saved FAISS shard 154 with 500 documents\n",
      "Saved FAISS shard 155 with 500 documents\n",
      "Saved FAISS shard 156 with 500 documents\n",
      "Saved FAISS shard 157 with 500 documents\n",
      "Saved FAISS shard 158 with 500 documents\n",
      "Saved FAISS shard 159 with 500 documents\n",
      "Saved FAISS shard 160 with 500 documents\n",
      "Saved FAISS shard 161 with 500 documents\n",
      "Saved FAISS shard 162 with 500 documents\n",
      "Saved FAISS shard 163 with 500 documents\n",
      "Saved FAISS shard 164 with 500 documents\n",
      "Saved FAISS shard 165 with 500 documents\n",
      "Saved FAISS shard 166 with 500 documents\n",
      "Saved FAISS shard 167 with 500 documents\n",
      "Saved FAISS shard 168 with 500 documents\n",
      "Saved FAISS shard 169 with 500 documents\n",
      "Saved FAISS shard 170 with 500 documents\n",
      "Saved FAISS shard 171 with 500 documents\n",
      "Saved FAISS shard 172 with 500 documents\n",
      "Saved FAISS shard 173 with 500 documents\n",
      "Saved FAISS shard 174 with 500 documents\n",
      "Saved FAISS shard 175 with 500 documents\n",
      "Saved FAISS shard 176 with 500 documents\n",
      "Saved FAISS shard 177 with 500 documents\n",
      "Saved FAISS shard 178 with 500 documents\n",
      "Saved FAISS shard 179 with 500 documents\n",
      "Saved FAISS shard 180 with 500 documents\n",
      "Saved FAISS shard 181 with 500 documents\n",
      "Saved FAISS shard 182 with 500 documents\n",
      "Saved FAISS shard 183 with 500 documents\n",
      "Saved FAISS shard 184 with 500 documents\n",
      "Saved FAISS shard 185 with 500 documents\n",
      "Saved FAISS shard 186 with 500 documents\n",
      "Saved FAISS shard 187 with 500 documents\n",
      "Saved FAISS shard 188 with 500 documents\n",
      "Saved FAISS shard 189 with 500 documents\n",
      "Saved FAISS shard 190 with 500 documents\n",
      "Saved FAISS shard 191 with 500 documents\n",
      "Saved FAISS shard 192 with 500 documents\n",
      "Saved FAISS shard 193 with 500 documents\n",
      "Saved FAISS shard 194 with 500 documents\n",
      "Saved FAISS shard 195 with 500 documents\n",
      "Saved FAISS shard 196 with 500 documents\n",
      "Saved FAISS shard 197 with 500 documents\n",
      "Saved FAISS shard 198 with 500 documents\n",
      "Saved FAISS shard 199 with 500 documents\n",
      "Saved FAISS shard 200 with 500 documents\n",
      "Saved FAISS shard 201 with 500 documents\n",
      "Saved FAISS shard 202 with 500 documents\n",
      "Saved FAISS shard 203 with 500 documents\n",
      "Saved FAISS shard 204 with 500 documents\n",
      "Saved FAISS shard 205 with 500 documents\n",
      "Saved FAISS shard 206 with 500 documents\n",
      "Saved FAISS shard 207 with 500 documents\n",
      "Saved FAISS shard 208 with 500 documents\n",
      "Saved FAISS shard 209 with 500 documents\n",
      "Saved FAISS shard 210 with 500 documents\n",
      "Saved FAISS shard 211 with 500 documents\n",
      "Saved FAISS shard 212 with 337 documents\n"
     ]
    }
   ],
   "source": [
    "# Now store pdf files in multiple models:\n",
    "\n",
    "with open('../resources/sets/rag-links.txt', 'r') as file:\n",
    "    data = file.read().replace('\\n', ',')\n",
    "links = data.split(',')\n",
    "links_pdf = [x for x in links if \".pdf\" in x]\n",
    "\n",
    "# Load documents\n",
    "loader = WebBaseLoader(web_paths=links_pdf)\n",
    "blog_docs = loader.load()\n",
    "\n",
    "# Split text\n",
    "text_splitter = RecursiveCharacterTextSplitter.from_tiktoken_encoder(\n",
    "    chunk_size=300, chunk_overlap=50)\n",
    "splits = text_splitter.split_documents(blog_docs)\n",
    "\n",
    "print(len(splits))\n",
    "\n",
    "# Define chunk size for FAISS sharding\n",
    "batch_size = 500  # Adjust based on memory constraints\n",
    "num_batches = (len(splits) // batch_size) + 1\n",
    "\n",
    "# Initialize OpenAI embeddings\n",
    "embeddings = OpenAIEmbeddings()\n",
    "\n",
    "# Save FAISS indexes in multiple files\n",
    "save_path = \"../models/\"\n",
    "os.makedirs(save_path, exist_ok=True)\n",
    "\n",
    "for i in range(len(splits)):\n",
    "    start_idx = i * batch_size\n",
    "    end_idx = start_idx + batch_size\n",
    "    batch_splits = splits[start_idx:end_idx]\n",
    "\n",
    "    if batch_splits:  # Avoid empty batches\n",
    "        vectorstore = FAISS.from_documents(batch_splits, embeddings)\n",
    "        vectorstore.save_local(os.path.join(save_path, f\"faiss_index_{i}\"))\n",
    "        if i % 10 == 0:\n",
    "            print(f\"Saved FAISS shard {i} with {len(batch_splits)} documents\")\n"
   ]
  },
  {
   "cell_type": "code",
   "execution_count": 6,
   "metadata": {},
   "outputs": [],
   "source": [
    "from langchain.vectorstores import FAISS\n",
    "from langchain_openai import OpenAIEmbeddings\n",
    "from langchain_openai import ChatOpenAI\n",
    "from langchain.prompts import ChatPromptTemplate\n",
    "from langchain_core.output_parsers import StrOutputParser\n",
    "from langchain_core.runnables import RunnablePassthrough\n",
    "import pickle\n",
    "\n",
    "embd = OpenAIEmbeddings()\n",
    "\n",
    "save_path = \"../models/\"\n",
    "# with open(f\"../models/index.pkl\", \"rb\") as f:\n",
    "#     stored_data = pickle.load(f)\n",
    "\n",
    "vectorstore_init = FAISS.load_local(folder_path=\"../models/\", embeddings=embd, allow_dangerous_deserialization=True)\n",
    "\n",
    "# Load all FAISS shards and merge them\n",
    "faiss_indexes = [vectorstore_init]\n",
    "for filename in os.listdir(save_path):\n",
    "    if filename.startswith(\"faiss_index_\"):  # Load only the FAISS shards\n",
    "        index_path = os.path.join(save_path, filename)\n",
    "        vectorstore = FAISS.load_local(index_path, embd, allow_dangerous_deserialization=True)\n",
    "        faiss_indexes.append(vectorstore)\n",
    "\n",
    "# Merge all FAISS indexes into a single one\n",
    "if faiss_indexes:\n",
    "    merged_vectorstore = faiss_indexes[0]\n",
    "    for store in faiss_indexes[1:]:\n",
    "        merged_vectorstore.merge_from(store)\n",
    "\n",
    "# retriever = vectorstore.as_retriever(search_kwargs={\"k\": 5}) # number of documents retrieved\n",
    "\n",
    "retriever = merged_vectorstore.as_retriever(search_kwargs={\"k\": 5})\n",
    "\n",
    "# Prompt\n",
    "template = \"\"\"Answer the question based only on the following context:\n",
    "{context}\n",
    "\n",
    "Please, provide as much information as possible!\n",
    "Do not say words like 'context'\n",
    "Question: {question}\n",
    "\"\"\"\n",
    "\n",
    "prompt = ChatPromptTemplate.from_template(template)\n",
    "\n",
    "# LLM\n",
    "llm = ChatOpenAI(model_name=\"gpt-4o\", temperature=0)\n",
    "\n",
    "rag_chain = (\n",
    "    {\"context\": retriever, \"question\": RunnablePassthrough()}\n",
    "    | prompt\n",
    "    | llm\n",
    "    | StrOutputParser()\n",
    ")"
   ]
  },
  {
   "cell_type": "code",
   "execution_count": 7,
   "metadata": {},
   "outputs": [
    {
     "data": {
      "text/plain": [
       "'Ігор Михайлович Черевко є завідувачем кафедри математичного моделювання Чернівецького національного університету імені Юрія Федьковича. Він народився у 1956 році. Черевко має ступінь доктора фізико-математичних наук і є професором. Він також залучений до викладання курсів, таких як \"Математичне моделювання динамічних систем і процесів\" та \"Комп\\'ютерне моделювання жорстких процесів та систем\".'"
      ]
     },
     "execution_count": 7,
     "metadata": {},
     "output_type": "execute_result"
    }
   ],
   "source": [
    "rag_chain.invoke(\"Хто такий Ігор Михайлович Черевко?\")"
   ]
  },
  {
   "cell_type": "code",
   "execution_count": 5,
   "metadata": {},
   "outputs": [
    {
     "data": {
      "text/plain": [
       "'Навчальна програма з комп\\'ютерних наук на кафедрі математичного моделювання охоплює як бакалаврський, так і магістерський рівні вищої освіти. \\n\\nДля бакалаврів спеціальності 122 \"Комп\\'ютерні науки\" пропонуються робочі програми обов\\'язкових та вибіркових навчальних дисциплін. Цільова група для цих програм - студенти першого (бакалаврського) рівня вищої освіти.\\n\\nДля магістрів спеціальності 122 \"Комп\\'ютерні науки\" також розроблені робочі програми обов\\'язкових та вибіркових навчальних дисциплін. Цільова група для цих програм - студенти другого (магістерського) рівня вищої освіти.\\n\\nКрім того, для магістрів другого курсу спеціальності 122 \"Комп\\'ютерні науки\" проводиться проєктний практикум, що є частиною навчальної програми на кафедрі математичного моделювання.'"
      ]
     },
     "execution_count": 5,
     "metadata": {},
     "output_type": "execute_result"
    }
   ],
   "source": [
    "rag_chain.invoke(\"Розскажи про навчальну програму 'комп`ютерні науки'\")"
   ]
  },
  {
   "cell_type": "markdown",
   "metadata": {},
   "source": [
    "### Let's create a url parser"
   ]
  },
  {
   "cell_type": "code",
   "execution_count": 4,
   "metadata": {},
   "outputs": [],
   "source": [
    "from bs4 import BeautifulSoup\n",
    "import requests\n",
    "\n",
    "\n",
    "parsed = set()\n",
    "links = [\"https://mathmod.chnu.edu.ua/\"]\n",
    "\n",
    "start_url = \"https://mathmod.chnu.edu.ua/\"\n",
    "depth = 10\n",
    "\n",
    "for i in range(depth):\n",
    "    new_links = []\n",
    "    for link in links:\n",
    "        if link not in parsed:\n",
    "            try:\n",
    "                response = requests.get(link, headers={\"User-Agent\": USER_AGENT})\n",
    "                soup = BeautifulSoup(response.content, \"html.parser\")\n",
    "                for a in soup.find_all(\"a\", href=True):\n",
    "                    href = a[\"href\"]\n",
    "                    if href.startswith(\"/\"):\n",
    "                        href = start_url + href[1:]\n",
    "                    if href.startswith(start_url) and href not in parsed and 'pdf' not in href.lower() and 'jpg' not in href.lower() and 'png' not in href.lower() and 'jpeg' not in href.lower() and 'docx' not in href.lower() and 'doc' not in href.lower() and 'xls' not in href.lower() and 'xlsx' not in href.lower() and 'pptx' not in href.lower() and 'ppt' not in href.lower() and 'email-protection' not in href.lower() and 'mailto' not in href.lower() and 'tel' not in href.lower() and 'javascript' not in href.lower() and 'webp' not in href.lower() and 'svg' not in href.lower() and 'mp4' not in href.lower() and 'avi' not in href.lower() and 'mov' not in href.lower() and 'mkv' not in href.lower() and 'flv' not in href.lower() and 'wmv' not in href.lower() and 'mp3' not in href.lower() and 'wav' not in href.lower():\n",
    "                        new_links.append(href)\n",
    "            except Exception as e:\n",
    "                print(f\"Error fetching {link}: {e}\")\n",
    "            parsed.add(link)\n",
    "    links.extend(new_links)\n",
    "    links = list(set(links))  # remove duplicates\n",
    "    i += 1\n",
    "\n",
    "with open(\"../resources/sets/rag-links-2.txt\", \"w\") as f:\n",
    "    for line in links:\n",
    "        f.write(line + \"\\n\")\n"
   ]
  },
  {
   "cell_type": "code",
   "execution_count": null,
   "metadata": {},
   "outputs": [],
   "source": [
    "import bs4\n",
    "from langchain_community.document_loaders import WebBaseLoader\n",
    "from langchain.text_splitter import RecursiveCharacterTextSplitter\n",
    "from langchain.vectorstores import FAISS\n",
    "\n",
    "with open('../resources/sets/rag-links-2.txt', 'r') as file:\n",
    "    data = file.read().replace('\\n', ',')\n",
    "\n",
    "links = data.split(',')\n",
    "\n",
    "loader = WebBaseLoader(\n",
    "    web_paths=links_no_pdf\n",
    ")\n",
    "blog_docs = loader.load()\n",
    "\n",
    "text_splitter = RecursiveCharacterTextSplitter.from_tiktoken_encoder(\n",
    "    chunk_size=300, \n",
    "    chunk_overlap=50)\n",
    "\n",
    "# Make splits\n",
    "splits = text_splitter.split_documents(blog_docs)\n",
    "print(splits[:2])\n",
    "\n",
    "vectorstore = FAISS.from_documents(splits, OpenAIEmbeddings())\n",
    "\n",
    "vectorstore.save_local(\"../models/\")"
   ]
  },
  {
   "cell_type": "markdown",
   "metadata": {},
   "source": [
    "todo:\n",
    "- deploy python code with vectorstore\n",
    "- multiquery "
   ]
  }
 ],
 "metadata": {
  "kernelspec": {
   "display_name": "Python 3",
   "language": "python",
   "name": "python3"
  },
  "language_info": {
   "codemirror_mode": {
    "name": "ipython",
    "version": 3
   },
   "file_extension": ".py",
   "mimetype": "text/x-python",
   "name": "python",
   "nbconvert_exporter": "python",
   "pygments_lexer": "ipython3",
   "version": "3.10.0"
  }
 },
 "nbformat": 4,
 "nbformat_minor": 2
}
